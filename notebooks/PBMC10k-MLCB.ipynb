{
 "cells": [
  {
   "cell_type": "markdown",
   "metadata": {},
   "source": [
    "NOTE: Results change from run to run so these results (or any future) will not be equal to those reported in the biorxiv preprint."
   ]
  },
  {
   "cell_type": "markdown",
   "metadata": {},
   "source": [
    "## Import, load dataset, load saved model"
   ]
  },
  {
   "cell_type": "code",
   "execution_count": null,
   "metadata": {},
   "outputs": [],
   "source": [
    "import csv\n",
    "import gzip\n",
    "import os\n",
    "import scipy.io\n",
    "import matplotlib.pyplot as plt\n",
    "import seaborn as sns\n",
    "import numpy as np\n",
    "import pandas as pd\n",
    "import torch\n",
    "\n",
    "from scvi.dataset import GeneExpressionDataset, Dataset10X\n",
    "from scvi.models import VAE, TOTALVI\n",
    "from scvi.inference import TotalPosterior, TotalTrainer, Posterior, UnsupervisedTrainer\n",
    "from totalppc import TotalPosteriorPredictiveCheck as totalPPC\n",
    "\n",
    "from scipy.special import softmax\n",
    "from sklearn.decomposition import PCA\n",
    "import umap\n",
    "\n",
    "sns.set(context=\"notebook\", font_scale=1.15, style=\"ticks\")\n",
    "save_path = \"../data/10X\"\n",
    "%load_ext autoreload\n",
    "%autoreload 2\n",
    "%matplotlib inline"
   ]
  },
  {
   "cell_type": "code",
   "execution_count": null,
   "metadata": {},
   "outputs": [],
   "source": [
    "dataset = Dataset10X(dataset_name=\"pbmc_10k_protein_v3\", save_path=save_path, \n",
    "                     measurement_names_column=1, dense=True)"
   ]
  },
  {
   "cell_type": "code",
   "execution_count": null,
   "metadata": {},
   "outputs": [],
   "source": [
    "# Code to run doubletdetection\n",
    "# import doubletdetection\n",
    "# clf = doubletdetection.BoostClassifier(n_iters=25, use_phenograph=False, standard_scaling=True)\n",
    "# doublets = clf.fit(dataset.X).predict(p_thresh=1e-16, voter_thresh=0.5)\n",
    "# np.save(\"pbmc10kdoublets.npy\", doublets)"
   ]
  },
  {
   "cell_type": "code",
   "execution_count": null,
   "metadata": {},
   "outputs": [],
   "source": [
    "doublets = np.load(\"data/pbmc10kdoublets.npy\")"
   ]
  },
  {
   "cell_type": "code",
   "execution_count": null,
   "metadata": {},
   "outputs": [],
   "source": [
    "def filter_dataset(dataset):\n",
    "    high_count_genes = (dataset.X > 0).sum(axis=0).ravel() > 0.01 * dataset.X.shape[0]\n",
    "    dataset.update_genes(high_count_genes)\n",
    "    dataset.subsample_genes(new_n_genes=5000)\n",
    "\n",
    "    # Filter control proteins\n",
    "    non_control_proteins = []\n",
    "    for i, p in enumerate(dataset.protein_names):\n",
    "        if not p.startswith(\"IgG\"):\n",
    "            non_control_proteins.append(i)\n",
    "        else:\n",
    "            print(p)\n",
    "    dataset.protein_expression = dataset.protein_expression[:, non_control_proteins]\n",
    "    dataset.protein_names = dataset.protein_names[non_control_proteins]\n",
    "    \n",
    "    \n",
    "    high_gene_count_cells = (dataset.X > 0).sum(axis=1).ravel() > 500\n",
    "    high_protein_cells = dataset.protein_expression.sum(axis=1) >= np.percentile(dataset.protein_expression.sum(axis=1), 1)\n",
    "    inds_to_keep = np.logical_and(high_gene_count_cells, high_protein_cells)\n",
    "    inds_to_keep = np.logical_and(inds_to_keep, ~(doublets.astype(np.bool)))\n",
    "    dataset.update_cells(inds_to_keep)\n",
    "    return dataset, inds_to_keep"
   ]
  },
  {
   "cell_type": "code",
   "execution_count": null,
   "metadata": {},
   "outputs": [],
   "source": [
    "dataset, inds_to_keep = filter_dataset(dataset)"
   ]
  },
  {
   "cell_type": "code",
   "execution_count": null,
   "metadata": {},
   "outputs": [],
   "source": [
    "totalvae = TOTALVI(dataset.nb_genes, len(dataset.protein_names), n_latent=20)\n",
    "use_cuda = True\n",
    "lr = 5e-3\n",
    "early_stopping_kwargs = {\n",
    "    \"early_stopping_metric\": \"elbo\",\n",
    "    \"save_best_state_metric\": \"elbo\",\n",
    "    \"patience\": 150,\n",
    "    \"threshold\": 0,\n",
    "    \"reduce_lr_on_plateau\": True,\n",
    "    \"lr_patience\": 30,\n",
    "    \"lr_factor\": 0.6,\n",
    "    \"posterior_class\": TotalPosterior,\n",
    "}\n",
    "\n",
    "trainer = TotalTrainer(\n",
    "    totalvae,\n",
    "    dataset,\n",
    "    train_size=0.90,\n",
    "    test_size=0.04,\n",
    "    use_cuda=use_cuda,\n",
    "    frequency=1,\n",
    "    data_loader_kwargs={\"batch_size\":256},\n",
    "    n_epochs_kl_warmup=200,\n",
    "    n_epochs_back_kl_warmup=200,\n",
    "    early_stopping_kwargs=early_stopping_kwargs,\n",
    "    seed=3\n",
    ")"
   ]
  },
  {
   "cell_type": "code",
   "execution_count": null,
   "metadata": {},
   "outputs": [],
   "source": [
    "trainer.train(lr=lr, n_epochs=500)"
   ]
  },
  {
   "cell_type": "code",
   "execution_count": null,
   "metadata": {},
   "outputs": [],
   "source": [
    "with torch.no_grad():\n",
    "    print(trainer.validation_set.compute_marginal_log_likelihood(n_samples_mc=100, batch_size=64))"
   ]
  },
  {
   "cell_type": "code",
   "execution_count": null,
   "metadata": {},
   "outputs": [],
   "source": [
    "-trainer.validation_set.compute_elbo(totalvae)"
   ]
  },
  {
   "cell_type": "code",
   "execution_count": null,
   "metadata": {},
   "outputs": [],
   "source": [
    "with torch.no_grad():\n",
    "    print(trainer.validation_set.compute_reconstruction_error(totalvae))"
   ]
  },
  {
   "cell_type": "code",
   "execution_count": null,
   "metadata": {},
   "outputs": [],
   "source": [
    "full_data = np.concatenate([dataset.X, dataset.protein_expression], axis=1)\n",
    "full_dataset = GeneExpressionDataset()\n",
    "full_dataset.populate_from_data(full_data)"
   ]
  },
  {
   "cell_type": "code",
   "execution_count": null,
   "metadata": {},
   "outputs": [],
   "source": [
    "vae = VAE(full_dataset.nb_genes, n_latent=20, reconstruction_loss=\"nb\")\n",
    "trainer_vae = UnsupervisedTrainer(vae,\n",
    "                                  full_dataset,\n",
    "                                  train_size=0.90,\n",
    "                                  test_size=0.04,\n",
    "                                  use_cuda=True,\n",
    "                                  frequency=10,\n",
    "                                  seed=3,\n",
    "                                  n_epochs_kl_warmup=200,)\n",
    "trainer_vae.train(n_epochs=500, lr=3e-3)"
   ]
  },
  {
   "cell_type": "code",
   "execution_count": null,
   "metadata": {},
   "outputs": [],
   "source": [
    "from scvi.models.log_likelihood import compute_marginal_log_likelihood, compute_elbo, compute_reconstruction_error\n",
    "with torch.no_grad():\n",
    "    print(compute_marginal_log_likelihood(vae, trainer_vae.validation_set, n_samples_mc=100))"
   ]
  },
  {
   "cell_type": "code",
   "execution_count": null,
   "metadata": {
    "scrolled": false
   },
   "outputs": [],
   "source": [
    "plt.plot(trainer.history['elbo_validation_set'][50:], label=\"validation\")\n",
    "plt.plot(trainer.history['elbo_train_set'][50:], label=\"train\")\n",
    "plt.plot(trainer.history['elbo_test_set'][50:], label=\"test\")\n",
    "sns.despine()\n",
    "plt.legend()"
   ]
  },
  {
   "cell_type": "code",
   "execution_count": null,
   "metadata": {},
   "outputs": [],
   "source": [
    "plt.plot(trainer.history['elbo_validation_set'][10:], label=\"validation\")\n",
    "plt.plot(trainer.history['elbo_test_set'][10:], label=\"test\")\n",
    "sns.despine()\n",
    "plt.legend()"
   ]
  },
  {
   "cell_type": "code",
   "execution_count": null,
   "metadata": {},
   "outputs": [],
   "source": [
    "plt.plot(trainer_vae.history['elbo_validation_set'][10:], label=\"validation\")\n",
    "plt.plot(trainer_vae.history['elbo_test_set'][10:], label=\"test\")\n",
    "sns.despine()\n",
    "plt.legend()"
   ]
  },
  {
   "cell_type": "code",
   "execution_count": null,
   "metadata": {},
   "outputs": [],
   "source": [
    "with torch.no_grad():\n",
    "    print(-trainer.validation_set.compute_elbo(totalvae))\n",
    "    print(-compute_elbo(vae, trainer_vae.validation_set))"
   ]
  },
  {
   "cell_type": "markdown",
   "metadata": {},
   "source": [
    "## Create posterior"
   ]
  },
  {
   "cell_type": "code",
   "execution_count": null,
   "metadata": {},
   "outputs": [],
   "source": [
    "full_posterior = trainer.create_posterior(totalvae, dataset, indices=np.arange(len(dataset)), type_class=TotalPosterior)\n",
    "latent_mean, batch_index, label, library_gene = full_posterior.sequential().get_latent()\n",
    "def sigmoid(x):\n",
    "    return 1 / (1 + np.exp(-x))\n",
    "N_SAMPLES = 50\n",
    "parsed_protein_names = [p.split(\"_\")[0] for p in dataset.protein_names]\n",
    "py_mixing = sigmoid(full_posterior.sequential().get_sample_mixing(n_samples=N_SAMPLES, give_mean=True))\n",
    "protein_pi = pd.DataFrame(data=py_dropout, columns=parsed_protein_names)\n",
    "# Function below returns tuple (denoised_gene, denoised_pro) we concat here \n",
    "denoised_data = np.concatenate(full_posterior.sequential().get_normalized_denoised_expression(n_samples=N_SAMPLES, give_mean=True), axis=-1)"
   ]
  },
  {
   "cell_type": "code",
   "execution_count": null,
   "metadata": {},
   "outputs": [],
   "source": [
    "torch.cuda.empty_cache()"
   ]
  },
  {
   "cell_type": "code",
   "execution_count": null,
   "metadata": {},
   "outputs": [],
   "source": [
    "umap_dr = umap.UMAP(n_neighbors=15, random_state=42, min_dist=0.1).fit_transform(latent_mean)"
   ]
  },
  {
   "cell_type": "code",
   "execution_count": null,
   "metadata": {},
   "outputs": [],
   "source": [
    "gene = \"CD127_TotalSeqB\"\n",
    "fig, ax = plt.subplots(1, 2, figsize=(8, 4), dpi=300)\n",
    "cax = ax[0].scatter(umap_dr[:, 0], umap_dr[:, 1], s=3, c = py_mixing[:, np.where(dataset.protein_names==gene)[0]].ravel())\n",
    "ax[0].axis('off')\n",
    "ax[1].axis('off')\n",
    "ax[0].set_title(\"Probability(in background)\")\n",
    "ax[1].scatter(umap_dr[:, 0], umap_dr[:, 1], s=3, c = np.log(dataset.protein_expression[:, np.where(dataset.protein_names==gene)[0]].ravel()+1))\n",
    "ax[1].set_title(\"Log Normalized Expression\")\n",
    "fig.colorbar(cax, ax=ax[0], orientation='vertical')"
   ]
  },
  {
   "cell_type": "code",
   "execution_count": null,
   "metadata": {},
   "outputs": [],
   "source": [
    "gene = \"CD4_TotalSeqB\"\n",
    "fig, ax = plt.subplots(1, 2, figsize=(8, 4))\n",
    "ax[0].hist(np.log(1 + dataset.protein_expression[:, np.where(dataset.protein_names == gene)[0]]), bins=50)\n",
    "sns.despine()\n",
    "cax = ax[1].scatter(umap_dr[:, 0], umap_dr[:, 1], s=3, c = py_mixing[:, np.where(dataset.protein_names==gene)[0]].ravel(), cmap=plt.cm.viridis)\n",
    "ax[1].axis('off')\n",
    "ax[0].set_title(\"Distribution of CD4 protein counts\")\n",
    "ax[0].set_ylabel(\"Number of Cells\")\n",
    "ax[0].set_xlabel(\"log(UMI)\")\n",
    "ax[1].set_title(\"Probability(Background)\")\n",
    "ax[1].annotate(\"CD4+ T\", xy=(-5, 2))\n",
    "ax[1].annotate(\"CD8+ T\", xy=(1, -5))\n",
    "ax[1].annotate(\"Monocytes\", xy=(-5, -15))\n",
    "fig.colorbar(cax, ax=ax[1], orientation='vertical')\n",
    "plt.tight_layout()\n",
    "plt.savefig(\"monocyte.pdf\")"
   ]
  },
  {
   "cell_type": "code",
   "execution_count": null,
   "metadata": {},
   "outputs": [],
   "source": [
    "import matplotlib.gridspec as gridspec\n",
    "fig = plt.figure(figsize=(12, 4))\n",
    "gs = gridspec.GridSpec(2, 3)\n",
    "ax = []\n",
    "ax.append(plt.subplot(gs[0:, 0]))\n",
    "ax.append(plt.subplot(gs[0:, 1]))\n",
    "ax.append(plt.subplot(gs[0, 2]))\n",
    "ax.append(plt.subplot(gs[1, 2]))\n",
    "\n",
    "\n",
    "ind = 5\n",
    "gene=np.where(dataset.gene_names == \"FCGR3A\")[0][0]\n",
    "\n",
    "c = np.logical_and((py_mixing[:, ind] > 0.9), np.log(dataset.protein_expression[:, ind]+1) < 6.8)\n",
    "c = np.logical_and(c, np.log(dataset.protein_expression[:, ind]+1) > 3.5)\n",
    "d = np.logical_and((py_mixing[:, ind] < 0.1), np.log(dataset.protein_expression[:, ind]+1) < 6.8)\n",
    "\n",
    "ax[0].scatter(np.log(dataset.protein_expression[~c, ind]+1), py_mixing[~c, ind], c=\"grey\", s=3)\n",
    "ax[0].scatter(np.log(dataset.protein_expression[c, ind]+1), py_mixing[c, ind], c=\"red\", s=3)\n",
    "ax[0].scatter(np.log(dataset.protein_expression[d, ind]+1), py_mixing[d, ind], c=\"blue\", s=3)\n",
    "\n",
    "ax[0].axvline(6.8, linestyle=\"--\", c=\"black\")\n",
    "ax[0].axvline(3.5, linestyle=\"--\", c=\"black\")\n",
    "ax[0].axhline(0.9, linestyle=\"--\", c=\"black\")\n",
    "ax[0].axhline(0.1, linestyle=\"--\", c=\"black\")\n",
    "ax[1].scatter(umap_dr[~c, 0], umap_dr[~c, 1], s=3, c=\"grey\")\n",
    "ax[1].scatter(umap_dr[c, 0], umap_dr[c, 1], s=1, c=\"red\", alpha=0.3)\n",
    "ax[1].scatter(umap_dr[d, 0], umap_dr[d, 1], s=1, c=\"blue\", alpha=0.3)\n",
    "ax[1].tick_params(axis='both', which='both', length=0)\n",
    "ax[1].set_xticklabels([])\n",
    "ax[1].set_yticklabels([])\n",
    "\n",
    "bins = np.linspace(0, 9, 10)\n",
    "ax[2].hist(dataset.X[c, gene].ravel(), alpha=0.8, \n",
    "           color=\"red\", density=True, bins=bins, label=\"Selected\")\n",
    "ax[2].hist(dataset.X[~c, gene].ravel(), alpha=0.5, \n",
    "           color=\"grey\", density=True, bins=bins, label=\"Rest\")\n",
    "ax[2].set_ylabel(\"Density\")\n",
    "ax[2].legend()\n",
    "\n",
    "ax[3].hist(dataset.X[d, gene].ravel(), alpha=0.8, \n",
    "           color=\"blue\", density=True, bins=bins, label=\"Selected\")\n",
    "ax[3].hist(dataset.X[~d, gene].ravel(), alpha=0.5, \n",
    "           color=\"grey\", density=True, bins=bins, label=\"Rest\")\n",
    "ax[3].set_xlabel(\"CD16 Gene Expression (UMI count)\")\n",
    "ax[3].set_ylabel(\"Density\")\n",
    "ax[3].legend()\n",
    "\n",
    "sns.despine()\n",
    "ax[0].set_xlabel(\"{} Protein log(UMI count)\".format(dataset.protein_names[ind].split(\"_\")[0]))\n",
    "ax[0].set_ylabel(\"Probability(Background)\")\n",
    "ax[1].set_xlabel(\"UMAP 1\")\n",
    "ax[1].set_ylabel(\"UMAP 2\")\n",
    "ax[1].annotate(\"NK\", xy=(-9, 6))\n",
    "ax[1].annotate(\"CD16+ Mono\", xy=(6, -9.3))\n",
    "ax[1].annotate(\"CD14+ Mono\", xy=(-5, -15))\n",
    "plt.tight_layout()\n",
    "plt.savefig(\"cd16_pbmc10k.pdf\")"
   ]
  },
  {
   "cell_type": "code",
   "execution_count": null,
   "metadata": {},
   "outputs": [],
   "source": [
    "pp_sample = full_posterior.generate(n_samples=5, batch_size=64)[0]"
   ]
  },
  {
   "cell_type": "code",
   "execution_count": null,
   "metadata": {},
   "outputs": [],
   "source": [
    "from scipy.stats import pearsonr, spearmanr\n",
    "import scanpy as sc\n",
    "import anndata\n",
    "\n",
    "adata = anndata.AnnData(X=dataset.X)\n",
    "adata = anndata.AnnData(X=np.concatenate([adata.X, dataset.protein_expression], axis=1))\n",
    "\n",
    "\n",
    "identifiers = [pn.split('_')[0] for pn in dataset.protein_names]\n",
    "translation = {\"CD8a\":\"CD8A\", \"CD3\":\"CD3G\", \"CD127\":\"IL7R\", \"CD25\":\"IL2RA\", \"CD16\":\"FCGR3A\", \"CD4\":\"CD4\", \n",
    "               \"CD14\":\"CD14\", \"CD15\":\"FUT4\", \"CD56\":\"NCAM1\", \"CD19\":\"CD19\", \"CD45RA\":\"PTPRC\", \"CD45RO\":\"PTPRC\", \n",
    "               \"PD-1\":\"PDCD1\", \"TIGIT\":\"TIGIT\"}\n",
    "total = []\n",
    "total_pp = []\n",
    "scan = []\n",
    "for i, identifier in enumerate(identifiers):\n",
    "    pro = np.where(dataset.protein_names == identifier + '_TotalSeqB')[0][0] + dataset.nb_genes\n",
    "    identifier = translation[identifier]\n",
    "    try:\n",
    "        gene = np.where(dataset.gene_names == identifier)[0][0]\n",
    "    except:\n",
    "        print(identifier)\n",
    "        continue\n",
    "    pearson = pearsonr(denoised_data[:, gene], denoised_data[:, pro])[0]\n",
    "    spearman_total = spearmanr(denoised_data[:, gene], denoised_data[:, pro])[0]\n",
    "    spearman_total_pp = 0\n",
    "    for j in range(pp_sample.shape[-1]):\n",
    "        spearman_total_pp += spearmanr(pp_sample[:, gene, j], pp_sample[:, pro, j])[0]\n",
    "    spearman_total_pp /= pp_sample.shape[-1]\n",
    "    spearman_scan = spearmanr(adata.X[:, gene], adata.X[:, pro])[0]\n",
    "    total_pp.append(spearman_total_pp)\n",
    "    total.append(spearman_total)\n",
    "    scan.append(spearman_scan)\n",
    "\n",
    "\n",
    "selected_genes = np.random.choice(dataset.nb_genes, 500)\n",
    "total_random = []\n",
    "total_pp_random = []\n",
    "scan_random = []\n",
    "for i, p in enumerate(dataset.protein_names):\n",
    "    for g in selected_genes:\n",
    "        pro = dataset.nb_genes + i\n",
    "        spearman_total = spearmanr(denoised_data[:, g], denoised_data[:,pro])[0]\n",
    "        spearman_total_pp = 0\n",
    "        for j in range(pp_sample.shape[-1]):\n",
    "            spearman_total_pp += spearmanr(pp_sample[:, g, j], pp_sample[:, pro, j])[0]\n",
    "        spearman_total_pp /= pp_sample.shape[-1]\n",
    "        spearman_scan = spearmanr(adata.X[:, g], adata.X[:, pro])[0]\n",
    "        total_random.append(spearman_total)\n",
    "        total_pp_random.append(spearman_total_pp)\n",
    "        scan_random.append(spearman_scan)"
   ]
  },
  {
   "cell_type": "code",
   "execution_count": null,
   "metadata": {},
   "outputs": [],
   "source": [
    "fig, axarr = plt.subplots(1, 2, figsize=(8, 4))\n",
    "\n",
    "\n",
    "plot_total = [total_pp, total]\n",
    "plot_total_random = [total_pp_random, total_random]\n",
    "for i, ax in enumerate(axarr):\n",
    "    ax.scatter(scan, plot_total[i], s=20, c='red', label=\"Same gene\", zorder=2)\n",
    "    ax.scatter(scan_random, plot_total_random[i], s=2, alpha=0.7, c='grey', label=\"Other\", zorder=1)\n",
    "    legend = ax.legend(loc=4)\n",
    "\n",
    "    legend.legendHandles[0]._sizes = [15]\n",
    "    legend.legendHandles[1]._sizes = [15]\n",
    "\n",
    "    lims = [\n",
    "        np.min([ax.get_xlim(), ax.get_ylim()]),  # min of both axes\n",
    "        np.max([ax.get_xlim(), ax.get_ylim()]),  # max of both axes\n",
    "    ]\n",
    "\n",
    "    # now plot both limits against eachother\n",
    "    ax.plot([-1, 1], [-1, 1], 'k-', alpha=0.75, zorder=0)\n",
    "    ax.set_aspect('equal')\n",
    "sns.despine()\n",
    "axarr[1].set_xlabel(\"Raw\")\n",
    "axarr[1].set_ylabel(\"totalVI Denoised\")\n",
    "axarr[1].set_title(\"Protein-RNA Spearman Correlations\")\n",
    "axarr[0].set_xlabel(\"Raw\")\n",
    "axarr[0].set_ylabel(\"totalVI Posterior Predictive\")\n",
    "axarr[0].set_title(\"Protein-RNA Spearman Correlations\")\n",
    "plt.tight_layout()\n",
    "plt.savefig(\"correlations_noised.pdf\")"
   ]
  },
  {
   "cell_type": "markdown",
   "metadata": {},
   "source": [
    "## PPC"
   ]
  },
  {
   "cell_type": "code",
   "execution_count": null,
   "metadata": {},
   "outputs": [],
   "source": [
    "vae_post = trainer_vae.create_posterior(vae, full_dataset, indices=np.arange(len(dataset)))\n",
    "ppc_held = totalPPC(posteriors_dict={'totalVI':trainer.validation_set, \"scVI\":trainer_vae.validation_set}, n_samples=150)\n",
    "ppc_full = totalPPC(posteriors_dict={'totalVI':full_posterior, \"scVI\":vae_post}, n_samples=25)"
   ]
  },
  {
   "cell_type": "code",
   "execution_count": null,
   "metadata": {},
   "outputs": [],
   "source": [
    "train_indices = trainer.train_set.indices\n",
    "test_indices = trainer.validation_set.indices\n",
    "train_data = full_data[trainer.train_set.indices]\n",
    "ppc_held.store_fa_samples(train_data, train_indices, test_indices, n_components=totalvae.n_latent, normalization=\"log\")\n",
    "ppc_held.store_fa_samples(train_data, train_indices, test_indices, n_components=totalvae.n_latent, normalization=\"log_rate\")"
   ]
  },
  {
   "cell_type": "code",
   "execution_count": null,
   "metadata": {},
   "outputs": [],
   "source": [
    "def calibration_error(ppc, key):\n",
    "    ps = [2.5, 5, 7.5, 10, 12.5, 15, 17.5, 82.5, 85, 87.5, 90, 92.5, 95, 97.5]\n",
    "    reverse_ps = ps[::-1]\n",
    "    percentiles = np.percentile(ppc.posterior_predictive_samples[key], ps, axis=2)\n",
    "    reverse_percentiles = percentiles[::-1]\n",
    "    cal_error_genes = 0\n",
    "    cal_error_proteins = 0\n",
    "    cal_error_total = 0\n",
    "    for i, j, truth, reverse_truth in zip(percentiles, reverse_percentiles, ps, reverse_ps):\n",
    "        if truth > reverse_truth:\n",
    "            break\n",
    "        ci = np.logical_and(ppc.raw_counts >= i, ppc.raw_counts <= j)\n",
    "        pci_genes = np.mean(ci[:, :dataset.nb_genes])\n",
    "        pci_proteins = np.mean(ci[:, dataset.nb_genes:])\n",
    "        pci_total = np.mean(ci)\n",
    "        true_width = (100 - truth * 2) / 100\n",
    "        cal_error_genes += (pci_genes - true_width)**2\n",
    "        cal_error_proteins += (pci_proteins - true_width)**2\n",
    "        cal_error_total += (pci_total - true_width)**2\n",
    "    print(cal_error_genes, cal_error_proteins, cal_error_total)\n",
    "\n",
    "calibration_error(ppc_held, \"totalVI\")\n",
    "calibration_error(ppc_held, \"scVI\")\n",
    "calibration_error(ppc_held, \"Factor Analysis (Log)\")\n",
    "calibration_error(ppc_held, \"Factor Analysis (Log Rate)\")"
   ]
  },
  {
   "cell_type": "code",
   "execution_count": null,
   "metadata": {},
   "outputs": [],
   "source": [
    "def mean_squared_log_error(self):\n",
    "    df = pd.DataFrame()\n",
    "    for m, samples in self.posterior_predictive_samples.items():\n",
    "        mean_sample = np.mean(samples, axis=-1)\n",
    "        mad_gene = np.mean(\n",
    "            np.square(\n",
    "                np.log(mean_sample[:, : self.dataset.nb_genes] + 1)\n",
    "                - np.log(self.raw_counts[:, : self.dataset.nb_genes] + 1)\n",
    "            )\n",
    "        )\n",
    "        mad_pro = np.mean(\n",
    "            np.square(\n",
    "                np.log(mean_sample[:, self.dataset.nb_genes :] + 1)\n",
    "                - np.log(self.raw_counts[:, self.dataset.nb_genes :] + 1)\n",
    "            )\n",
    "        )\n",
    "        df[m] = [mad_gene, mad_pro]\n",
    "\n",
    "    df.index = [\"genes\", \"proteins\"]\n",
    "    self.metrics[\"msle\"] = df\n",
    "mean_squared_log_error(ppc_held)"
   ]
  },
  {
   "cell_type": "code",
   "execution_count": null,
   "metadata": {},
   "outputs": [],
   "source": [
    "ppc_held.metrics[\"msle\"]"
   ]
  },
  {
   "cell_type": "code",
   "execution_count": null,
   "metadata": {},
   "outputs": [],
   "source": [
    "del ppc_held\n",
    "ppc_full.store_fa_samples(ppc_full.raw_counts, np.arange(len(dataset)), np.arange(len(dataset)), \n",
    "                          n_components=totalvae.n_latent, normalization=\"log\")\n",
    "ppc_full.store_fa_samples(ppc_full.raw_counts, np.arange(len(dataset)), np.arange(len(dataset)), \n",
    "                          n_components=totalvae.n_latent, normalization=\"log_rate\")"
   ]
  },
  {
   "cell_type": "code",
   "execution_count": null,
   "metadata": {},
   "outputs": [],
   "source": [
    "ppc = ppc_full\n",
    "ppc.coeff_of_variation(cell_wise=False)"
   ]
  },
  {
   "cell_type": "code",
   "execution_count": null,
   "metadata": {},
   "outputs": [],
   "source": [
    "from scipy.stats import ks_2samp\n",
    "\n",
    "fig, ax = plt.subplots(1, 1)\n",
    "sns.boxplot(data=ppc.metrics[\"cv_gene\"].iloc[dataset.nb_genes:], ax=ax, showfliers=False)\n",
    "plt.title(\"Coefficient of Variation (Proteins)\")\n",
    "sns.despine()\n",
    "key = \"cv_gene\"\n",
    "print(np.median(np.abs(ppc.metrics[key][\"totalVI\"].iloc[dataset.nb_genes:] - ppc.metrics[key][\"raw\"].iloc[dataset.nb_genes:])))\n",
    "\n",
    "print(np.median(np.abs(ppc.metrics[key][\"scVI\"].iloc[dataset.nb_genes:] - ppc.metrics[key][\"raw\"].iloc[dataset.nb_genes:])))\n",
    "\n",
    "print(np.median(np.abs(ppc.metrics[key][\"Factor Analysis (Log)\"].iloc[dataset.nb_genes:] - ppc.metrics[key][\"raw\"].iloc[dataset.nb_genes:])))\n",
    "\n",
    "print(np.median(np.abs(ppc.metrics[key][\"Factor Analysis (Log Rate)\"].iloc[dataset.nb_genes:] - ppc.metrics[key][\"raw\"].iloc[dataset.nb_genes:])))"
   ]
  },
  {
   "cell_type": "code",
   "execution_count": null,
   "metadata": {},
   "outputs": [],
   "source": [
    "fig, ax = plt.subplots(1, 1)\n",
    "sns.boxplot(data=ppc.metrics[\"cv_gene\"].iloc[:dataset.nb_genes], ax=ax, showfliers=False)\n",
    "plt.title(\"Coefficient of Variation (RNA)\")\n",
    "sns.despine()\n",
    "key = \"cv_gene\"\n",
    "print(np.median(np.abs(ppc.metrics[key][\"totalVI\"].iloc[:dataset.nb_genes] - ppc.metrics[key][\"raw\"].iloc[:dataset.nb_genes])))\n",
    "\n",
    "print(np.median(np.abs(ppc.metrics[key][\"Factor Analysis (Log)\"].iloc[:dataset.nb_genes] - ppc.metrics[key][\"raw\"].iloc[:dataset.nb_genes])))\n",
    "\n",
    "print(np.median(np.abs(ppc.metrics[key][\"Factor Analysis (Log Rate)\"].iloc[:dataset.nb_genes] - ppc.metrics[key][\"raw\"].iloc[:dataset.nb_genes])))\n",
    "\n",
    "print(np.median(np.abs(ppc.metrics[key][\"scVI\"].iloc[:dataset.nb_genes] - ppc.metrics[key][\"raw\"].iloc[:dataset.nb_genes])))\n",
    "\n"
   ]
  },
  {
   "cell_type": "code",
   "execution_count": null,
   "metadata": {},
   "outputs": [],
   "source": []
  },
  {
   "cell_type": "code",
   "execution_count": null,
   "metadata": {},
   "outputs": [],
   "source": []
  },
  {
   "cell_type": "code",
   "execution_count": null,
   "metadata": {},
   "outputs": [],
   "source": []
  },
  {
   "cell_type": "code",
   "execution_count": null,
   "metadata": {},
   "outputs": [],
   "source": []
  }
 ],
 "metadata": {
  "kernelspec": {
   "display_name": "private_scvi",
   "language": "python",
   "name": "private_scvi"
  },
  "language_info": {
   "codemirror_mode": {
    "name": "ipython",
    "version": 3
   },
   "file_extension": ".py",
   "mimetype": "text/x-python",
   "name": "python",
   "nbconvert_exporter": "python",
   "pygments_lexer": "ipython3",
   "version": "3.7.3"
  },
  "toc": {
   "base_numbering": 1,
   "nav_menu": {},
   "number_sections": true,
   "sideBar": true,
   "skip_h1_title": false,
   "title_cell": "Table of Contents",
   "title_sidebar": "Contents",
   "toc_cell": false,
   "toc_position": {},
   "toc_section_display": true,
   "toc_window_display": true
  }
 },
 "nbformat": 4,
 "nbformat_minor": 2
}
