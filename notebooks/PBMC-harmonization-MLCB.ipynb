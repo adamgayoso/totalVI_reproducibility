{
 "cells": [
  {
   "cell_type": "markdown",
   "metadata": {},
   "source": [
    "## Import, load dataset, load saved model"
   ]
  },
  {
   "cell_type": "code",
   "execution_count": 1,
   "metadata": {},
   "outputs": [
    {
     "name": "stderr",
     "output_type": "stream",
     "text": [
      "[2019-10-12 17:16:04,553] INFO - scvi._settings | Added StreamHandler with custom formatter to 'scvi' logger.\n",
      "/data/yosef2/users/adamgayoso/.pyenv/versions/scvi/lib/python3.7/site-packages/scikit_learn-0.19.2-py3.7-linux-x86_64.egg/sklearn/ensemble/weight_boosting.py:29: DeprecationWarning: numpy.core.umath_tests is an internal NumPy module and should not be imported. It will be removed in a future NumPy release.\n",
      "  from numpy.core.umath_tests import inner1d\n"
     ]
    }
   ],
   "source": [
    "import csv\n",
    "import gzip\n",
    "import os\n",
    "import scipy.io\n",
    "import matplotlib.pyplot as plt\n",
    "import seaborn as sns\n",
    "import numpy as np\n",
    "import pandas as pd\n",
    "import torch\n",
    "\n",
    "from scvi.dataset import GeneExpressionDataset, Dataset10X\n",
    "from scvi.models import VAE, TOTALVI\n",
    "from scvi.inference import TotalPosterior, TotalTrainer, Posterior, UnsupervisedTrainer\n",
    "from totalppc import TotalPosteriorPredictiveCheck as totalPPC\n",
    "\n",
    "from scipy.special import softmax\n",
    "from sklearn.decomposition import PCA\n",
    "import umap\n",
    "\n",
    "sns.set(context=\"notebook\", font_scale=1.15, style=\"ticks\")\n",
    "save_path = \"../data/10X\"\n",
    "%load_ext autoreload\n",
    "%autoreload 2\n",
    "%matplotlib inline"
   ]
  },
  {
   "cell_type": "code",
   "execution_count": 2,
   "metadata": {},
   "outputs": [
    {
     "name": "stderr",
     "output_type": "stream",
     "text": [
      "[2019-10-12 17:53:39,223] INFO - scvi.dataset.dataset | File /data/yosef2/users/adamgayoso/projects/totalVI_reproducibility/data/10X/pbmc_10k_protein_v3/filtered_feature_bc_matrix.tar.gz already downloaded\n",
      "[2019-10-12 17:53:39,225] INFO - scvi.dataset.dataset10X | Preprocessing dataset\n",
      "[2019-10-12 17:54:13,677] INFO - scvi.dataset.dataset10X | Finished preprocessing dataset\n",
      "[2019-10-12 17:54:15,621] INFO - scvi.dataset.dataset | Remapping batch_indices to [0,N]\n",
      "[2019-10-12 17:54:15,623] INFO - scvi.dataset.dataset | Remapping labels to [0,N]\n",
      "[2019-10-12 17:54:16,037] INFO - scvi.dataset.dataset | Computing the library size for the new data\n",
      "[2019-10-12 17:54:16,449] INFO - scvi.dataset.dataset | Downsampled from 7865 to 7865 cells\n",
      "[2019-10-12 17:54:16,514] INFO - scvi.dataset.dataset | File /data/yosef2/users/adamgayoso/projects/totalVI_reproducibility/data/10X/5k_pbmc_protein_v3/filtered_feature_bc_matrix.tar.gz already downloaded\n",
      "[2019-10-12 17:54:16,515] INFO - scvi.dataset.dataset10X | Preprocessing dataset\n",
      "[2019-10-12 17:54:41,071] INFO - scvi.dataset.dataset10X | Finished preprocessing dataset\n",
      "[2019-10-12 17:54:42,258] INFO - scvi.dataset.dataset | Remapping batch_indices to [0,N]\n",
      "[2019-10-12 17:54:42,260] INFO - scvi.dataset.dataset | Remapping labels to [0,N]\n",
      "[2019-10-12 17:54:42,538] INFO - scvi.dataset.dataset | Computing the library size for the new data\n",
      "[2019-10-12 17:54:42,817] INFO - scvi.dataset.dataset | Downsampled from 5247 to 5247 cells\n"
     ]
    }
   ],
   "source": [
    "dataset1 = Dataset10X(\n",
    "    dataset_name=\"pbmc_10k_protein_v3\",\n",
    "    save_path=save_path,\n",
    "    measurement_names_column=1,\n",
    "    dense=True,\n",
    ")\n",
    "dataset2 = Dataset10X(\n",
    "    dataset_name=\"5k_pbmc_protein_v3\",\n",
    "    save_path=save_path,\n",
    "    measurement_names_column=1,\n",
    "    dense=True,\n",
    ")"
   ]
  },
  {
   "cell_type": "code",
   "execution_count": 3,
   "metadata": {},
   "outputs": [],
   "source": [
    "def filter_dataset(dataset):\n",
    "    high_count_genes = (dataset.X > 0).sum(axis=0).ravel() > 0.01 * dataset.X.shape[0]\n",
    "    dataset.update_genes(high_count_genes)\n",
    "    dataset.subsample_genes(new_n_genes=5000)\n",
    "    high_gene_count_cells = (dataset.X > 0).sum(axis=1).ravel() > 500\n",
    "    dataset.update_cells(high_gene_count_cells)\n",
    "    # Filter control proteins\n",
    "    non_control_proteins = []\n",
    "    for i, p in enumerate(dataset.protein_names):\n",
    "        if not p.startswith(\"IgG\"):\n",
    "            non_control_proteins.append(i)\n",
    "        else:\n",
    "            print(p)\n",
    "    dataset.protein_expression = dataset.protein_expression[:, non_control_proteins]\n",
    "    dataset.protein_names = dataset.protein_names[non_control_proteins]\n",
    "    high_protein_cells = dataset.protein_expression.sum(axis=1) >= np.percentile(dataset.protein_expression.sum(axis=1), 1)\n",
    "    dataset.update_cells(high_protein_cells)\n",
    "    return dataset"
   ]
  },
  {
   "cell_type": "code",
   "execution_count": 4,
   "metadata": {},
   "outputs": [
    {
     "name": "stderr",
     "output_type": "stream",
     "text": [
      "[2019-10-12 17:54:43,850] INFO - scvi.dataset.dataset | Downsampling from 33538 to 11272 genes\n",
      "[2019-10-12 17:54:44,145] INFO - scvi.dataset.dataset | Computing the library size for the new data\n",
      "[2019-10-12 17:54:44,421] INFO - scvi.dataset.dataset | Filtering non-expressing cells.\n",
      "[2019-10-12 17:54:44,699] INFO - scvi.dataset.dataset | Computing the library size for the new data\n",
      "[2019-10-12 17:54:44,841] INFO - scvi.dataset.dataset | Downsampled from 7865 to 7865 cells\n",
      "[2019-10-12 17:54:46,214] INFO - scvi.dataset.dataset | Downsampling from 11272 to 5000 genes\n",
      "[2019-10-12 17:54:46,620] INFO - scvi.dataset.dataset | Computing the library size for the new data\n",
      "[2019-10-12 17:54:46,745] INFO - scvi.dataset.dataset | Filtering non-expressing cells.\n",
      "[2019-10-12 17:54:46,869] INFO - scvi.dataset.dataset | Computing the library size for the new data\n",
      "[2019-10-12 17:54:46,934] INFO - scvi.dataset.dataset | Downsampled from 7865 to 7865 cells\n",
      "[2019-10-12 17:54:47,044] INFO - scvi.dataset.dataset | Computing the library size for the new data\n",
      "[2019-10-12 17:54:47,108] INFO - scvi.dataset.dataset | Downsampled from 7865 to 7732 cells\n",
      "[2019-10-12 17:54:47,160] INFO - scvi.dataset.dataset | Computing the library size for the new data\n",
      "[2019-10-12 17:54:47,224] INFO - scvi.dataset.dataset | Downsampled from 7732 to 7654 cells\n"
     ]
    },
    {
     "name": "stdout",
     "output_type": "stream",
     "text": [
      "IgG2a_control_TotalSeqB\n",
      "IgG1_control_TotalSeqB\n",
      "IgG2b_control_TotalSeqB\n"
     ]
    },
    {
     "name": "stderr",
     "output_type": "stream",
     "text": [
      "[2019-10-12 17:54:47,493] INFO - scvi.dataset.dataset | Downsampling from 33538 to 11667 genes\n",
      "[2019-10-12 17:54:47,695] INFO - scvi.dataset.dataset | Computing the library size for the new data\n",
      "[2019-10-12 17:54:47,890] INFO - scvi.dataset.dataset | Filtering non-expressing cells.\n",
      "[2019-10-12 17:54:48,087] INFO - scvi.dataset.dataset | Computing the library size for the new data\n",
      "[2019-10-12 17:54:48,185] INFO - scvi.dataset.dataset | Downsampled from 5247 to 5247 cells\n",
      "[2019-10-12 17:54:49,132] INFO - scvi.dataset.dataset | Downsampling from 11667 to 5000 genes\n",
      "[2019-10-12 17:54:49,403] INFO - scvi.dataset.dataset | Computing the library size for the new data\n",
      "[2019-10-12 17:54:49,486] INFO - scvi.dataset.dataset | Filtering non-expressing cells.\n",
      "[2019-10-12 17:54:49,570] INFO - scvi.dataset.dataset | Computing the library size for the new data\n",
      "[2019-10-12 17:54:49,614] INFO - scvi.dataset.dataset | Downsampled from 5247 to 5247 cells\n",
      "[2019-10-12 17:54:49,684] INFO - scvi.dataset.dataset | Computing the library size for the new data\n",
      "[2019-10-12 17:54:49,722] INFO - scvi.dataset.dataset | Downsampled from 5247 to 4464 cells\n",
      "[2019-10-12 17:54:49,753] INFO - scvi.dataset.dataset | Computing the library size for the new data\n",
      "[2019-10-12 17:54:49,791] INFO - scvi.dataset.dataset | Downsampled from 4464 to 4419 cells\n"
     ]
    },
    {
     "name": "stdout",
     "output_type": "stream",
     "text": [
      "IgG1_control_TotalSeqB\n",
      "IgG2a_control_TotalSeqB\n",
      "IgG2b_control_TotalSeqB\n"
     ]
    }
   ],
   "source": [
    "dataset1 = filter_dataset(dataset1)\n",
    "dataset2 = filter_dataset(dataset2)"
   ]
  },
  {
   "cell_type": "code",
   "execution_count": 5,
   "metadata": {},
   "outputs": [
    {
     "name": "stderr",
     "output_type": "stream",
     "text": [
      "[2019-10-12 17:54:49,832] INFO - scvi.dataset.dataset | Keeping 4456 genes\n",
      "[2019-10-12 17:54:49,913] INFO - scvi.dataset.dataset | Computing the library size for the new data\n",
      "[2019-10-12 17:54:50,007] INFO - scvi.dataset.dataset | Remapping batch_indices to [0,N]\n",
      "[2019-10-12 17:54:50,010] INFO - scvi.dataset.dataset | Remapping labels to [0,N]\n",
      "[2019-10-12 17:54:50,178] INFO - scvi.dataset.dataset | Computing the library size for the new data\n",
      "[2019-10-12 17:54:50,243] INFO - scvi.dataset.dataset | Remapping batch_indices to [0,N]\n",
      "[2019-10-12 17:54:50,245] INFO - scvi.dataset.dataset | Remapping labels to [0,N]\n",
      "[2019-10-12 17:54:50,551] INFO - scvi.dataset.dataset | Remapping batch_indices to [0,N]\n",
      "[2019-10-12 17:54:50,553] INFO - scvi.dataset.dataset | Remapping labels to [0,N]\n",
      "[2019-10-12 17:54:50,557] INFO - scvi.dataset.dataset | Keeping 14 columns in protein_expression\n"
     ]
    }
   ],
   "source": [
    "dataset = GeneExpressionDataset()\n",
    "dataset.populate_from_datasets([dataset1, dataset2])"
   ]
  },
  {
   "cell_type": "code",
   "execution_count": 6,
   "metadata": {},
   "outputs": [],
   "source": [
    "totalvae = TOTALVI(dataset.nb_genes, len(dataset.protein_names), n_latent=20, n_batch=dataset.n_batches)\n",
    "use_cuda = True\n",
    "lr = 5e-3\n",
    "early_stopping_kwargs = {\n",
    "    \"early_stopping_metric\": \"elbo\",\n",
    "    \"save_best_state_metric\": \"elbo\",\n",
    "    \"patience\": 150,\n",
    "    \"threshold\": 0,\n",
    "    \"reduce_lr_on_plateau\": True,\n",
    "    \"lr_patience\": 30,\n",
    "    \"lr_factor\": 0.6,\n",
    "    \"posterior_class\": TotalPosterior,\n",
    "}\n",
    "\n",
    "trainer = TotalTrainer(\n",
    "    totalvae,\n",
    "    dataset,\n",
    "    train_size=0.96,\n",
    "    test_size=0.04,\n",
    "    use_cuda=use_cuda,\n",
    "    frequency=1,\n",
    "    data_loader_kwargs={\"batch_size\":256},\n",
    "    n_epochs_kl_warmup=200,\n",
    "    n_epochs_back_kl_warmup=200,\n",
    "    early_stopping_kwargs=early_stopping_kwargs,\n",
    "    seed=3\n",
    ")"
   ]
  },
  {
   "cell_type": "code",
   "execution_count": 7,
   "metadata": {},
   "outputs": [
    {
     "name": "stdout",
     "output_type": "stream",
     "text": [
      "training:  67%|██████▋   | 336/500 [07:38<03:37,  1.33s/it]"
     ]
    },
    {
     "name": "stderr",
     "output_type": "stream",
     "text": [
      "[2019-10-12 18:02:54,644] INFO - scvi.inference.trainer | Reducing LR.\n",
      "INFO:scvi.inference.trainer:Reducing LR.\n"
     ]
    },
    {
     "name": "stdout",
     "output_type": "stream",
     "text": [
      "training:  85%|████████▌ | 427/500 [09:36<01:33,  1.29s/it]"
     ]
    },
    {
     "name": "stderr",
     "output_type": "stream",
     "text": [
      "[2019-10-12 18:04:52,559] INFO - scvi.inference.trainer | Reducing LR.\n",
      "INFO:scvi.inference.trainer:Reducing LR.\n"
     ]
    },
    {
     "name": "stdout",
     "output_type": "stream",
     "text": [
      "training:  94%|█████████▍| 471/500 [10:39<00:39,  1.34s/it]"
     ]
    },
    {
     "name": "stderr",
     "output_type": "stream",
     "text": [
      "[2019-10-12 18:05:54,825] INFO - scvi.inference.trainer | Reducing LR.\n",
      "INFO:scvi.inference.trainer:Reducing LR.\n"
     ]
    },
    {
     "name": "stdout",
     "output_type": "stream",
     "text": [
      "training: 100%|██████████| 500/500 [11:16<00:00,  1.35s/it]\n"
     ]
    }
   ],
   "source": [
    "trainer.train(lr=lr, n_epochs=500)"
   ]
  },
  {
   "cell_type": "code",
   "execution_count": 8,
   "metadata": {},
   "outputs": [
    {
     "name": "stdout",
     "output_type": "stream",
     "text": [
      "3389.451847179089\n"
     ]
    }
   ],
   "source": [
    "with torch.no_grad():\n",
    "    print(trainer.test_set.compute_marginal_log_likelihood(n_samples_mc=100, batch_size=64))"
   ]
  },
  {
   "cell_type": "code",
   "execution_count": 9,
   "metadata": {},
   "outputs": [],
   "source": [
    "with torch.no_grad():\n",
    "    -trainer.test_set.compute_elbo(totalvae)"
   ]
  },
  {
   "cell_type": "code",
   "execution_count": 10,
   "metadata": {},
   "outputs": [
    {
     "name": "stdout",
     "output_type": "stream",
     "text": [
      "(3312.8957039337474, 63.556422263198755)\n"
     ]
    }
   ],
   "source": [
    "with torch.no_grad():\n",
    "    print(trainer.test_set.compute_reconstruction_error(totalvae))"
   ]
  },
  {
   "cell_type": "code",
   "execution_count": 11,
   "metadata": {
    "scrolled": false
   },
   "outputs": [
    {
     "data": {
      "text/plain": [
       "<matplotlib.legend.Legend at 0x7ff7668d3c50>"
      ]
     },
     "execution_count": 11,
     "metadata": {},
     "output_type": "execute_result"
    },
    {
     "data": {
      "image/png": "[encoded data removed]",
      "text/plain": [
       "<Figure size 432x288 with 1 Axes>"
      ]
     },
     "metadata": {
      "needs_background": "light"
     },
     "output_type": "display_data"
    }
   ],
   "source": [
    "# plt.plot(trainer.history['elbo_validation_set'][50:], label=\"validation\")\n",
    "plt.plot(trainer.history['elbo_train_set'][50:], label=\"train\")\n",
    "plt.plot(trainer.history['elbo_test_set'][50:], label=\"test\")\n",
    "# plt.ylim(2500, 2600)\n",
    "sns.despine()\n",
    "plt.legend()"
   ]
  },
  {
   "cell_type": "markdown",
   "metadata": {},
   "source": [
    "## Create posterior"
   ]
  },
  {
   "cell_type": "code",
   "execution_count": 12,
   "metadata": {},
   "outputs": [],
   "source": [
    "full_posterior = trainer.create_posterior(totalvae, dataset, indices=np.arange(len(dataset)), type_class=TotalPosterior)\n",
    "latent_mean, batch_index, label, library_gene = full_posterior.sequential().get_latent()\n",
    "latent = full_posterior.sequential().get_latent(sample=True)[0]\n",
    "def sigmoid(x):\n",
    "    return 1 / (1 + np.exp(-x))\n",
    "N_SAMPLES = 50\n",
    "parsed_protein_names = [p.split(\"_\")[0] for p in dataset.protein_names]\n",
    "py_mixing = sigmoid(full_posterior.sequential().get_sample_mixing(n_samples=N_SAMPLES, give_mean=True))\n",
    "protein_pi = pd.DataFrame(data=py_mixing, columns=parsed_protein_names)\n",
    "denoised_gene, denoised_pro = full_posterior.sequential().get_normalized_denoised_expression(n_samples=N_SAMPLES, give_mean=True)"
   ]
  },
  {
   "cell_type": "code",
   "execution_count": 13,
   "metadata": {},
   "outputs": [],
   "source": [
    "torch.cuda.empty_cache()"
   ]
  },
  {
   "cell_type": "code",
   "execution_count": 14,
   "metadata": {},
   "outputs": [],
   "source": [
    "umap_dr = umap.UMAP(n_neighbors=15, random_state=42, min_dist=0.1).fit_transform(latent_mean)"
   ]
  },
  {
   "cell_type": "code",
   "execution_count": 15,
   "metadata": {},
   "outputs": [
    {
     "data": {
      "image/png": "[encoded data removed]",
      "text/plain": [
       "<Figure size 432x288 with 1 Axes>"
      ]
     },
     "metadata": {
      "needs_background": "light"
     },
     "output_type": "display_data"
    }
   ],
   "source": [
    "fig, ax = plt.subplots()\n",
    "batches = dataset.batch_indices.ravel()\n",
    "label = [\"PBMC10k\", \"PBMC5k\"]\n",
    "for b in np.unique(dataset.batch_indices.ravel()):\n",
    "    plt.scatter(umap_dr[batches == b, 0], umap_dr[batches == b, 1], label=label[b], s=1, alpha=0.5)\n",
    "ax.axis(\"off\")\n",
    "legend = ax.legend()\n",
    "legend.legendHandles[0]._sizes = [15]\n",
    "legend.legendHandles[1]._sizes = [15]\n",
    "# plt.savefig(\"harmonization.pdf\")"
   ]
  }
 ],
 "metadata": {
  "kernelspec": {
   "display_name": "scvi",
   "language": "python",
   "name": "scvi"
  },
  "language_info": {
   "codemirror_mode": {
    "name": "ipython",
    "version": 3
   },
   "file_extension": ".py",
   "mimetype": "text/x-python",
   "name": "python",
   "nbconvert_exporter": "python",
   "pygments_lexer": "ipython3",
   "version": "3.7.3"
  },
  "toc": {
   "base_numbering": 1,
   "nav_menu": {},
   "number_sections": true,
   "sideBar": true,
   "skip_h1_title": false,
   "title_cell": "Table of Contents",
   "title_sidebar": "Contents",
   "toc_cell": false,
   "toc_position": {},
   "toc_section_display": true,
   "toc_window_display": true
  }
 },
 "nbformat": 4,
 "nbformat_minor": 2
}
