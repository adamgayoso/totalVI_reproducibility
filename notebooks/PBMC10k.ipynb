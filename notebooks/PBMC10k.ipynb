{
 "cells": [
  {
   "cell_type": "markdown",
   "metadata": {},
   "source": [
    "## Import, load dataset, load saved model"
   ]
  },
  {
   "cell_type": "code",
   "execution_count": 1,
   "metadata": {},
   "outputs": [
    {
     "name": "stderr",
     "output_type": "stream",
     "text": [
      "/Users/adamgayoso/.virtualenvs/scvi/lib/python3.7/site-packages/scikit_learn-0.19.2-py3.7-macosx-10.14-x86_64.egg/sklearn/ensemble/weight_boosting.py:29: DeprecationWarning: numpy.core.umath_tests is an internal NumPy module and should not be imported. It will be removed in a future NumPy release.\n",
      "  from numpy.core.umath_tests import inner1d\n",
      "INFO:hyperopt.utils:Failed to load dill, try installing dill via \"pip install dill\" for enhanced pickling support.\n",
      "INFO:hyperopt.fmin:Failed to load dill, try installing dill via \"pip install dill\" for enhanced pickling support.\n",
      "INFO:hyperopt.mongoexp:Failed to load dill, try installing dill via \"pip install dill\" for enhanced pickling support.\n"
     ]
    }
   ],
   "source": [
    "import csv\n",
    "import gzip\n",
    "import os\n",
    "import scipy.io\n",
    "import matplotlib.pyplot as plt\n",
    "import numpy as np\n",
    "import pandas as pd\n",
    "import torch\n",
    "\n",
    "from scvi.dataset import GeneExpressionDataset, Dataset10X\n",
    "from scvi.models import VAE, TOTALVI\n",
    "from scvi.inference import TotalPosterior, TotalTrainer, Posterior, UnsupervisedTrainer\n",
    "from scvi.inference import TotalPosteriorPredictiveCheck as totalPPC\n",
    "\n",
    "from scipy.special import softmax\n",
    "from sklearn.decomposition import PCA\n",
    "import umap\n",
    "\n",
    "save_path = \"../data/10X\"\n",
    "%load_ext autoreload\n",
    "%autoreload 2\n",
    "%matplotlib inline"
   ]
  },
  {
   "cell_type": "code",
   "execution_count": 2,
   "metadata": {},
   "outputs": [
    {
     "name": "stderr",
     "output_type": "stream",
     "text": [
      "INFO:scvi.dataset.dataset:File ../data/10X/pbmc_10k_protein_v3/filtered_feature_bc_matrix.tar.gz already downloaded\n",
      "INFO:scvi.dataset.dataset10X:Preprocessing dataset\n",
      "INFO:scvi.dataset.dataset10X:Finished preprocessing dataset\n",
      "INFO:scvi.dataset.dataset:Remapping batch_indices to [0,N]\n",
      "INFO:scvi.dataset.dataset:Remapping labels to [0,N]\n",
      "INFO:scvi.dataset.dataset:Computing the library size for the new data\n",
      "INFO:scvi.dataset.dataset:Downsampled from 7865 to 7865 cells\n"
     ]
    }
   ],
   "source": [
    "dataset = Dataset10X(dataset_name=\"pbmc_10k_protein_v3\", save_path=save_path, measurement_names_column=1)"
   ]
  },
  {
   "cell_type": "code",
   "execution_count": 3,
   "metadata": {},
   "outputs": [
    {
     "name": "stderr",
     "output_type": "stream",
     "text": [
      "INFO:scvi.dataset.dataset:Downsampling from 33538 to 5000 genes\n",
      "INFO:scvi.dataset.dataset:Computing the library size for the new data\n",
      "INFO:scvi.dataset.dataset:Filtering non-expressing cells.\n",
      "INFO:scvi.dataset.dataset:Computing the library size for the new data\n",
      "INFO:scvi.dataset.dataset:Downsampled from 7865 to 7865 cells\n",
      "INFO:scvi.dataset.dataset:Downsampling from 5000 to 4996 genes\n",
      "INFO:scvi.dataset.dataset:Computing the library size for the new data\n",
      "INFO:scvi.dataset.dataset:Filtering non-expressing cells.\n",
      "INFO:scvi.dataset.dataset:Computing the library size for the new data\n",
      "INFO:scvi.dataset.dataset:Downsampled from 7865 to 7865 cells\n"
     ]
    }
   ],
   "source": [
    "dataset.subsample_genes(new_n_genes=5000)\n",
    "dataset.filter_genes_by_count(100)\n",
    "# Filter control proteins\n",
    "dataset.protein_expression = dataset.protein_expression[:, :-3]\n",
    "dataset.protein_names = dataset.protein_names[:-3]"
   ]
  },
  {
   "cell_type": "code",
   "execution_count": 4,
   "metadata": {},
   "outputs": [],
   "source": [
    "totalvae = TOTALVI(dataset.nb_genes, len(dataset.protein_names))\n",
    "use_cuda = False\n",
    "lr = 1e-2\n",
    "early_stopping_kwargs = {\n",
    "    \"early_stopping_metric\": \"elbo\",\n",
    "    \"save_best_state_metric\": \"elbo\",\n",
    "    \"patience\": 50,\n",
    "    \"threshold\": 0,\n",
    "    \"reduce_lr_on_plateau\": True,\n",
    "    \"lr_patience\": 20,\n",
    "    \"lr_factor\": 0.5,\n",
    "    \"posterior_class\": TotalPosterior,\n",
    "}\n",
    "\n",
    "trainer = TotalTrainer(\n",
    "    totalvae,\n",
    "    dataset,\n",
    "    train_size=0.90,\n",
    "    test_size=0.05,\n",
    "    use_cuda=use_cuda,\n",
    "    frequency=1,\n",
    "    early_stopping_kwargs=early_stopping_kwargs,\n",
    ")"
   ]
  },
  {
   "cell_type": "code",
   "execution_count": 5,
   "metadata": {},
   "outputs": [],
   "source": [
    "%%capture\n",
    "saved_model = torch.load(\"../saved_models/pbmc10k_totalVI.pt\", map_location=\"cpu\")\n",
    "totalvae.load_state_dict(saved_model['model_state_dict'])\n",
    "totalvae.eval()"
   ]
  },
  {
   "cell_type": "code",
   "execution_count": 11,
   "metadata": {},
   "outputs": [
    {
     "data": {
      "text/plain": [
       "(3377.2773735687024, 69.13958631520356)"
      ]
     },
     "execution_count": 11,
     "metadata": {},
     "output_type": "execute_result"
    }
   ],
   "source": [
    "trainer.validation_set.compute_reconstruction_error(totalvae)"
   ]
  },
  {
   "cell_type": "markdown",
   "metadata": {},
   "source": [
    "## Create posterior"
   ]
  },
  {
   "cell_type": "code",
   "execution_count": null,
   "metadata": {},
   "outputs": [],
   "source": [
    "full_posterior = trainer.create_posterior(totalvae, dataset, indices=np.arange(len(dataset)), type_class=TotalPosterior)\n",
    "latent_mean, batch_index, label, library_gene, library_protein, library_background = full_posterior.sequential().get_latent()\n",
    "latent, _, _, _, _, _ = full_posterior.sequential().get_latent(sample=True)\n",
    "def sigmoid(x):\n",
    "    return 1 / (1 + np.exp(-x))\n",
    "N_SAMPLES = 100\n",
    "px_dropout = sigmoid(full_posterior.sequential().get_sample_dropout(n_samples=N_SAMPLES, give_mean=True))\n",
    "adjusted_px_scale = full_posterior.sequential().get_normalized_denoised_expresssion(n_samples=N_SAMPLES, give_mean=True)"
   ]
  },
  {
   "cell_type": "code",
   "execution_count": null,
   "metadata": {},
   "outputs": [],
   "source": [
    "umap_dr = umap.UMAP(n_neighbors=15, random_state=42, min_dist=0.1).fit_transform(latent_mean)"
   ]
  },
  {
   "cell_type": "code",
   "execution_count": null,
   "metadata": {},
   "outputs": [],
   "source": [
    "fig, axarr = plt.subplots(4,5, figsize=(15,10))\n",
    "for i in range(len(dataset.protein_names)):\n",
    "    axarr.flat[i].hist(px_dropout[:, dataset.nb_genes + i])\n",
    "    axarr.flat[i].set_title(dataset.protein_names[i])\n",
    "plt.suptitle('Probability in Background')\n",
    "sns.despine()\n",
    "plt.tight_layout()"
   ]
  }
 ],
 "metadata": {
  "kernelspec": {
   "display_name": "scvi",
   "language": "python",
   "name": "scvi"
  },
  "language_info": {
   "codemirror_mode": {
    "name": "ipython",
    "version": 3
   },
   "file_extension": ".py",
   "mimetype": "text/x-python",
   "name": "python",
   "nbconvert_exporter": "python",
   "pygments_lexer": "ipython3",
   "version": "3.7.3"
  }
 },
 "nbformat": 4,
 "nbformat_minor": 2
}
